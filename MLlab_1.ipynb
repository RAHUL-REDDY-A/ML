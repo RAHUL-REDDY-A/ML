{
  "nbformat": 4,
  "nbformat_minor": 0,
  "metadata": {
    "colab": {
      "provenance": [],
      "toc_visible": true,
      "authorship_tag": "ABX9TyOFlhRgLO9PcfTVJ9rXXL6q",
      "include_colab_link": true
    },
    "kernelspec": {
      "name": "python3",
      "display_name": "Python 3"
    },
    "language_info": {
      "name": "python"
    }
  },
  "cells": [
    {
      "cell_type": "markdown",
      "metadata": {
        "id": "view-in-github",
        "colab_type": "text"
      },
      "source": [
        "<a href=\"https://colab.research.google.com/github/RAHUL-REDDY-A/ML/blob/main/MLlab_1.ipynb\" target=\"_parent\"><img src=\"https://colab.research.google.com/assets/colab-badge.svg\" alt=\"Open In Colab\"/></a>"
      ]
    },
    {
      "cell_type": "markdown",
      "source": [
        "### M**L Lab 1**"
      ],
      "metadata": {
        "id": "IL5L3YMPBDJy"
      }
    },
    {
      "cell_type": "markdown",
      "source": [
        "Generate a program to count the number of owels and constants present in the string"
      ],
      "metadata": {
        "id": "J9MoTyPwyIxg"
      }
    },
    {
      "cell_type": "code",
      "source": [
        "string = \"Hello World!\"\n",
        "vowels = \"aeiouAEIOU\"\n",
        "vowel_count = 0\n",
        "consonant_count = 0\n",
        "#check the string with the vowels\n",
        "for char in string:\n",
        "  if char.isalpha():\n",
        "    if char in vowels:\n",
        "      #incresase the count of vowels and const\n",
        "      vowel_count += 1\n",
        "    else:\n",
        "      consonant_count += 1\n",
        "#output result\n",
        "print(f\"Number of vowels: {vowel_count}\")\n",
        "print(f\"Number of consonants: {consonant_count}\")"
      ],
      "metadata": {
        "colab": {
          "base_uri": "https://localhost:8080/"
        },
        "id": "78t6flrFx82g",
        "outputId": "42184813-572d-4635-8dbb-0e33ec69279b"
      },
      "execution_count": 17,
      "outputs": [
        {
          "output_type": "stream",
          "name": "stdout",
          "text": [
            "Number of vowels: 3\n",
            "Number of consonants: 7\n"
          ]
        }
      ]
    },
    {
      "cell_type": "markdown",
      "source": [
        "Write a code to accept matrices a and b and gives the product of the matrices. if the matrices are not multpicative then print error."
      ],
      "metadata": {
        "id": "wiutCxD8znlm"
      }
    },
    {
      "cell_type": "code",
      "source": [
        "def input_matrix(name):\n",
        "    \"\"\"Reads a matrix from user input.\"\"\"\n",
        "    print(f\"{name} Matrix\")\n",
        "    rows = int(input(\"Enter number of rows: \"))\n",
        "    cols = int(input(\"Enter number of columns: \"))\n",
        "    print(\"Enter the matrix:\")\n",
        "    matrix = [list(map(int, input().split())) for _ in range(rows)]\n",
        "    return matrix, rows, cols\n",
        "\n",
        "def multiply_matrices(matrix1, rows1, cols1, matrix2, rows2, cols2):\n",
        "    \"\"\"Multiplies two matrices if compatible, else returns None.\"\"\"\n",
        "    if cols1 != rows2:\n",
        "        return None\n",
        "    result = []\n",
        "    for i in range(rows1):\n",
        "        row = []\n",
        "        for j in range(cols2):\n",
        "            element = sum(matrix1[i][k] * matrix2[k][j] for k in range(cols1))\n",
        "            row.append(element)\n",
        "        result.append(row)\n",
        "    return result\n",
        "\n",
        "def print_matrix(matrix, title=\"Matrix\"):\n",
        "    \"\"\"Prints a matrix with an optional title.\"\"\"\n",
        "    print(title)\n",
        "    for row in matrix:\n",
        "        print(*row)\n",
        "\n",
        "def main():\n",
        "    matrix1, rows1, cols1 = input_matrix(\"First\")\n",
        "    matrix2, rows2, cols2 = input_matrix(\"Second\")\n",
        "\n",
        "    product = multiply_matrices(matrix1, rows1, cols1, matrix2, rows2, cols2)\n",
        "\n",
        "    if product is None:\n",
        "        print(\"Error: Matrices cannot be multiplied (columns of A must equal rows of B).\")\n",
        "    else:\n",
        "        print_matrix(product, \"Product of the two matrices (A x B):\")\n",
        "\n",
        "if __name__ == \"__main__\":\n",
        "    main()"
      ],
      "metadata": {
        "colab": {
          "base_uri": "https://localhost:8080/"
        },
        "id": "GdFpYRLD014u",
        "outputId": "d35b944a-d3bf-4d7c-d1ad-e344d4c2c1bc"
      },
      "execution_count": 16,
      "outputs": [
        {
          "output_type": "stream",
          "name": "stdout",
          "text": [
            "First Matrix\n",
            "Enter number of rows: 2 \n",
            "Enter number of columns: 2\n",
            "Enter the matrix:\n",
            "2 3\n",
            "4 5\n",
            "Second Matrix\n",
            "Enter number of rows: 2 \n",
            "Enter number of columns: 2\n",
            "Enter the matrix:\n",
            "2 4 \n",
            "4 5\n",
            "Product of the two matrices (A x B):\n",
            "16 23\n",
            "28 41\n"
          ]
        }
      ]
    },
    {
      "cell_type": "markdown",
      "source": [
        "write a program that counts the common elements between 2 lists.list contains integers."
      ],
      "metadata": {
        "id": "L-miad8y3gfD"
      }
    },
    {
      "cell_type": "code",
      "source": [
        "def get_list_input(list_name):\n",
        "    return list(map(int, input(f\"Enter {list_name} (space-separated integers): \").split()))\n",
        "\n",
        "def count_common_elements(list1, list2):\n",
        "    common_elements = 0\n",
        "    for elem in list1:\n",
        "        if elem in list2:\n",
        "            common_elements += 1\n",
        "    return common_elements\n",
        "\n",
        "#input for both lists\n",
        "list1 = get_list_input(\"list 1\")\n",
        "list2 = get_list_input(\"list 2\")\n",
        "\n",
        "# Count common elements\n",
        "common_elements = count_common_elements(list1, list2)\n",
        "\n",
        "# Output result\n",
        "print(f\"Number of common elements: {common_elements}\")"
      ],
      "metadata": {
        "colab": {
          "base_uri": "https://localhost:8080/"
        },
        "id": "FBNBbEzm3a5y",
        "outputId": "ff736fd4-ed1b-4875-cdef-bf0f51dd19fd"
      },
      "execution_count": 6,
      "outputs": [
        {
          "output_type": "stream",
          "name": "stdout",
          "text": [
            "Enter list 1 of int (with spaces): 1 2 3 4 \n",
            "Enter list 2 of int (with spaces): 2 3 4 5\n",
            "Number of common elements: 3\n"
          ]
        }
      ]
    },
    {
      "cell_type": "markdown",
      "source": [
        "write a matrix that takes the matrix as a input and returns it transpose"
      ],
      "metadata": {
        "id": "p5mR03lG7uh_"
      }
    },
    {
      "cell_type": "code",
      "source": [
        "def transpose_matrix(matrix):\n",
        "    # Transpose the matrix using list comprehension\n",
        "    return [[matrix[j][i] for j in range(len(matrix))] for i in range(len(matrix[0]))]\n",
        "\n",
        "# Get user input for the matrix dimensions\n",
        "rows = int(input(\"Enter the number of rows: \"))\n",
        "cols = int(input(\"Enter the number of columns: \"))\n",
        "\n",
        "#Input matrix values\n",
        "matrix = []\n",
        "for i in range(rows):\n",
        "    row = list(map(int, input(f\"Enter row {i + 1} (space-separated): \").split()))\n",
        "    matrix.append(row)\n",
        "\n",
        "#transpose of the matrix\n",
        "transposed_matrix = transpose_matrix(matrix)\n",
        "\n",
        "# Print the original and transposed matrices\n",
        "print(\"\\n Matrix:\")\n",
        "for row in matrix:\n",
        "    print(row)\n",
        "\n",
        "print(\"\\n Transpose:\")\n",
        "for row in transposed_matrix:\n",
        "    print(row)"
      ],
      "metadata": {
        "colab": {
          "base_uri": "https://localhost:8080/"
        },
        "id": "M3VZ450f8Ol1",
        "outputId": "2fd6c782-a8fe-4aae-e703-bfeacffca765"
      },
      "execution_count": 12,
      "outputs": [
        {
          "output_type": "stream",
          "name": "stdout",
          "text": [
            "Enter the number of rows: 2\n",
            "Enter the number of columns: 2\n",
            "Enter row 1 (space-separated): 2 3\n",
            "Enter row 2 (space-separated): 4 5\n",
            "\n",
            " Matrix:\n",
            "[2, 3]\n",
            "[4, 5]\n",
            "\n",
            " Transpose:\n",
            "[2, 4]\n",
            "[3, 5]\n"
          ]
        }
      ]
    },
    {
      "cell_type": "code",
      "source": [],
      "metadata": {
        "id": "VHHTAJQA_JR1"
      },
      "execution_count": null,
      "outputs": []
    },
    {
      "cell_type": "markdown",
      "source": [
        "Generate a hundred random numbers between 100 and 150 and find their mean median and mode of numbers"
      ],
      "metadata": {
        "id": "17exwjet9xhs"
      }
    },
    {
      "cell_type": "code",
      "source": [
        "import random\n",
        "import statistics\n",
        "\n",
        "def generate_random_numbers(count=100, start=100, end=150):\n",
        "    #Generate a list of random integers.\n",
        "    return [random.randint(start, end) for _ in range(count)]\n",
        "\n",
        "def calculate_statistics(numbers):\n",
        "    #Calculate mean, median, and mode of a list.\n",
        "    mean = statistics.mean(numbers)\n",
        "    median = statistics.median(numbers)\n",
        "    try:\n",
        "        mode = statistics.mode(numbers)\n",
        "    except statistics.StatisticsError:\n",
        "        mode = \"No unique mode found\"\n",
        "    return mean, median, mode\n",
        "\n",
        "def display_results(numbers, mean, median, mode):\n",
        "    #Display the numbers and their statistics.\n",
        "    print(\"Random Numbers:\", numbers)\n",
        "    print(\"Mean:\", mean)\n",
        "    print(\"Median:\", median)\n",
        "    print(\"Mode:\", mode)\n",
        "\n",
        "def main():\n",
        "    random_numbers = generate_random_numbers()\n",
        "    mean, median, mode = calculate_statistics(random_numbers)\n",
        "    display_results(random_numbers, mean, median, mode)\n",
        "\n",
        "if __name__ == \"__main__\":\n",
        "    main()"
      ],
      "metadata": {
        "colab": {
          "base_uri": "https://localhost:8080/"
        },
        "id": "qE45x4Pg8C9G",
        "outputId": "be59b2c6-11d6-450c-c547-407d3c8f598e"
      },
      "execution_count": 14,
      "outputs": [
        {
          "output_type": "stream",
          "name": "stdout",
          "text": [
            "Random Numbers: [116, 140, 114, 117, 124, 102, 146, 101, 138, 148, 114, 142, 116, 103, 150, 101, 129, 138, 138, 150, 115, 109, 103, 115, 128, 118, 123, 109, 121, 109, 114, 104, 125, 113, 124, 138, 119, 116, 126, 122, 118, 141, 135, 116, 125, 125, 122, 105, 132, 125, 129, 107, 146, 112, 144, 148, 111, 116, 109, 136, 100, 107, 106, 128, 121, 121, 111, 124, 149, 106, 131, 136, 148, 124, 144, 148, 126, 138, 124, 110, 134, 107, 111, 148, 139, 103, 143, 132, 132, 117, 133, 135, 119, 119, 107, 115, 124, 138, 139, 121]\n",
            "Mean: 123.98\n",
            "Median: 123.5\n",
            "Mode: 124\n"
          ]
        }
      ]
    }
  ]
}